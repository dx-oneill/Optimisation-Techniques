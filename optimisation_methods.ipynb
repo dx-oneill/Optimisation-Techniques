{
 "cells": [
  {
   "cell_type": "code",
   "execution_count": 29,
   "id": "0819df7e-48fc-4424-b182-d0511fed5d55",
   "metadata": {},
   "outputs": [
    {
     "name": "stdout",
     "output_type": "stream",
     "text": [
      "Initial point:  (2.0, 2.0)\n",
      "After step 1:  (1.85, 1.85)\n",
      "After step 2:  (1.7, 1.7)\n"
     ]
    }
   ],
   "source": [
    "import numpy as np\n",
    "\n",
    "#1)iii)\n",
    "\n",
    "alpha = 0.15\n",
    "x0, y0 = 2.0, 2.0\n",
    "\n",
    "def f(x, y):\n",
    "    return 4 * x**2 - 2 * x * y + y**2 - 3 * x + 2 * y + 7\n",
    "\n",
    "def coordinate_search(x, y, alpha, coordinate):\n",
    "    if coordinate == 'x':\n",
    "        fx = f(x, y)\n",
    "        fx_plus = f(x + alpha, y)\n",
    "        fx_minus = f(x - alpha, y)\n",
    "    elif coordinate == 'y':\n",
    "        fx = f(x, y)\n",
    "        fx_plus = f(x, y + alpha)\n",
    "        fx_minus = f(x, y - alpha)\n",
    "    else:\n",
    "        raise ValueError(\"Coordinate must be 'x' or 'y'.\")\n",
    "\n",
    "    if fx <= fx_plus and fx <= fx_minus:\n",
    "        return x if coordinate == 'x' else y\n",
    "    elif fx_plus <= fx and fx_plus <= fx_minus:\n",
    "        return x + alpha if coordinate == 'x' else y + alpha\n",
    "    else:\n",
    "        return x - alpha if coordinate == 'x' else y - alpha\n",
    "\n",
    "x1 = coordinate_search(x0, y0, alpha, 'x')\n",
    "y1 = coordinate_search(x1, y0, alpha, 'y')\n",
    "\n",
    "x2 = coordinate_search(x1, y1, alpha, 'x')\n",
    "y2 = coordinate_search(x2, y1, alpha, 'y')\n",
    "\n",
    "print(\"Initial point: \", (round(x0, 2), round(y0, 2)))\n",
    "print(\"After step 1: \", (round(x1, 2), round(y1, 2)))\n",
    "print(\"After step 2: \", (round(x2, 2), round(y2, 2)))"
   ]
  },
  {
   "cell_type": "code",
   "execution_count": 46,
   "id": "e288bdba-60c5-4470-8d0a-0395c1f22f38",
   "metadata": {},
   "outputs": [
    {
     "name": "stdout",
     "output_type": "stream",
     "text": [
      "Initial cost: 3.7554\n",
      "Final cost: 0.0686\n",
      "Difference in cost: 3.6868\n",
      "Final parameters: a = 2.0302, b = 0.9613\n"
     ]
    }
   ],
   "source": [
    "import numpy as np\n",
    "\n",
    "#Q2)ii)\n",
    "\n",
    "x = np.array([1.73, 1.87, 1.90, 2.66, 3.43, 4.22])\n",
    "y = np.array([4.61, 4.98, 4.39, 6.59, 7.62, 9.65])\n",
    "\n",
    "alpha = 0.02  \n",
    "epochs = 2000  \n",
    "batch_size = 3  \n",
    "P = len(x) \n",
    "\n",
    "a = 1.0\n",
    "b = 2.0\n",
    "\n",
    "def compute_cost(a, b, x, y):\n",
    "    predictions = a * x + b\n",
    "    return np.mean((y - predictions) ** 2)\n",
    "\n",
    "initial_cost = compute_cost(a, b, x, y)\n",
    "\n",
    "for epoch in range(epochs):\n",
    "    for i in range(0, P, batch_size):\n",
    "        x_batch = x[i:i + batch_size] \n",
    "        y_batch = y[i:i + batch_size] \n",
    "\n",
    "        predictions = a * x_batch + b\n",
    "\n",
    "        da = (-2 / batch_size) * np.sum(x_batch * (y_batch - predictions))\n",
    "        db = (-2 / batch_size) * np.sum(y_batch - predictions)\n",
    "\n",
    "        a -= alpha * da\n",
    "        b -= alpha * db\n",
    "\n",
    "final_cost = compute_cost(a, b, x, y)\n",
    "\n",
    "print(f\"Initial cost: {initial_cost:.4f}\")\n",
    "print(f\"Final cost: {final_cost:.4f}\")\n",
    "print(f\"Difference in cost: {initial_cost - final_cost:.4f}\")\n",
    "print(f\"Final parameters: a = {a:.4f}, b = {b:.4f}\")"
   ]
  },
  {
   "cell_type": "code",
   "execution_count": null,
   "id": "44408cf9-c459-49b2-8377-1ef0b303d93c",
   "metadata": {},
   "outputs": [],
   "source": []
  }
 ],
 "metadata": {
  "kernelspec": {
   "display_name": "Python [conda env:base] *",
   "language": "python",
   "name": "conda-base-py"
  },
  "language_info": {
   "codemirror_mode": {
    "name": "ipython",
    "version": 3
   },
   "file_extension": ".py",
   "mimetype": "text/x-python",
   "name": "python",
   "nbconvert_exporter": "python",
   "pygments_lexer": "ipython3",
   "version": "3.12.7"
  }
 },
 "nbformat": 4,
 "nbformat_minor": 5
}
